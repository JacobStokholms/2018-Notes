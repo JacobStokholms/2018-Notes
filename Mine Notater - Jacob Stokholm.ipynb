{
 "cells": [
  {
   "cell_type": "markdown",
   "metadata": {},
   "source": [
    "# Mine notater 1.y\n"
   ]
  },
  {
   "cell_type": "markdown",
   "metadata": {},
   "source": [
    "## Intorduktion til python"
   ]
  },
  {
   "cell_type": "markdown",
   "metadata": {},
   "source": [
    "### Variabler\n",
    "\n",
    "I python er der ingen {} der er heller ingen ;. Det hele er baseret på linjeskift og indryk. Det har både fordele, men også nogle ulemper. Det er vigtig at holde øje på det nøjagtige antal *mellemrum/spaces* har indflydelse på det såkaldte **scope**. \n",
    "\n",
    "Python kræver ikke en specefikatino af datatype til variablen.\n"
   ]
  },
  {
   "cell_type": "code",
   "execution_count": 19,
   "metadata": {},
   "outputs": [],
   "source": [
    "# Eksemple på variable: Variabler kan hedde hvad som helst, UNTAGEN ÆØÅ, må dog ikke starte med et TAL! og ingen mellemrum.\n",
    "\n",
    "# Kald variblerne noget forståeligt som f.eks.\n",
    "antal_data = [1,2,3]\n",
    "antal_kasser = 3\n",
    "\n",
    "# Variable der indeholder et HELTAL kaldes Int eller Integers på engelsk.\n",
    "a = 4\n",
    "\n",
    "# Variable der indeholder KOMMATAL kaldes Float på engelsk.\n",
    "b = 2.5 \n",
    "\n",
    "# Variable der indeholder TEKST kaldes STRING på engelsk.\n",
    "c = \"Hej\"\n",
    "\n",
    "# Variable der indeholder BOOLSKE værdier dsv. SANDT/FALSK på engelsk - BOOL/BOOLEAN\n",
    "d = False\n",
    "\n",
    "# Samling af variable der indeholder FLERE TAL kaldes ARRAY/LIST på engelsk.\n",
    "e = [1,2,3]\n",
    "\n",
    "# Pas på, man kan lave rod i det hele.\n",
    "\n",
    "e = \"hej igen\""
   ]
  },
  {
   "cell_type": "code",
   "execution_count": 20,
   "metadata": {},
   "outputs": [
    {
     "name": "stdout",
     "output_type": "stream",
     "text": [
      "4\n"
     ]
    }
   ],
   "source": [
    "# For at vise hvad vi har af værdier eller varibler bruges print().\n",
    "\n",
    "print(a)"
   ]
  },
  {
   "cell_type": "code",
   "execution_count": 22,
   "metadata": {},
   "outputs": [
    {
     "name": "stdout",
     "output_type": "stream",
     "text": [
      "<class 'int'>\n",
      "<class 'float'>\n",
      "<class 'str'>\n",
      "<class 'bool'>\n"
     ]
    },
    {
     "data": {
      "text/plain": [
       "float"
      ]
     },
     "execution_count": 22,
     "metadata": {},
     "output_type": "execute_result"
    }
   ],
   "source": [
    "# Ofte har vi brug for at se hvilken type af en varible bruges type().\n",
    "\n",
    "type(a)\n",
    "\n",
    "# Print bruges til at vise dem alle.\n",
    "print(type(a))\n",
    "print(type(b))\n",
    "print(type(c))\n",
    "print(type(d))\n",
    "\n",
    "type(b)\n"
   ]
  },
  {
   "cell_type": "markdown",
   "metadata": {},
   "source": [
    "### Kontrolstruktur"
   ]
  },
  {
   "cell_type": "code",
   "execution_count": null,
   "metadata": {},
   "outputs": [],
   "source": [
    "# Hvis noget, så gør vi noget (If statements)\n",
    "\n",
    "\n",
    "if variable == 1:\n",
    "    pass\n",
    "\n",
    "elif varible == 0:      #elif står for else if.\n",
    "    pass\n",
    "\n",
    "else:\n",
    "    pass\n",
    "#eksemple\n",
    "\n",
    "karakter = 12\n",
    "\n",
    "if karakter == 12:\n",
    "    print(\"Perfekt\")\n",
    "elif karakter < 1:\n",
    "    print(\"dumpet\")\n",
    "elif karakter > 4:\n",
    "    print(\"Godt gået\")\n",
    "else:\n",
    "    print(\"Det kan godt gøres bedre\")\n",
    "    \n",
    " #eksemple på for der kan bruges som et loop\n",
    "tal = 1 \n",
    "for nyetal in range(11):\n",
    "    print(tal) \n",
    "    tal = tal +1\n",
    "    \n",
    "print(tal)"
   ]
  },
  {
   "cell_type": "code",
   "execution_count": null,
   "metadata": {},
   "outputs": [
    {
     "name": "stdout",
     "output_type": "stream",
     "text": [
      "Niveau 1\n",
      "Skriv et tal fra 1 til 10: 10\n",
      "Det var godt nok et stort tal\n",
      "Du har valgt at have 10 liv\n",
      "Du har mødt en bjørn. Vil du prøve at dræbe bjørn?. ja/nej: ja\n",
      "Bjørnen er alt for stærk, du døde. GAME OVER\n",
      "Niveau 1\n",
      "Skriv et tal fra 1 til 10: 10\n",
      "Det var godt nok et stort tal\n",
      "Du har valgt at have 10 liv\n",
      "Du har mødt en bjørn. Vil du prøve at dræbe bjørn?. ja/nej: nek\n",
      "Ups, du trykkede vist forkert. prøv igen\n",
      "Du har mødt en bjørn. Vil du prøve at dræbe bjørn?. ja/nej: nej\n",
      "Tilykke, du klarede første prøve\n",
      "Du er nu videre til niveau 2.\n",
      "Man kan ikke altid bare dræbe en bjørn. Først har man brug for nogle genstande\n",
      "Du kan vælge imellem en riffel eller en kniv: kniv\n",
      "Du har valgt en kniv som våben\n",
      "Vil du dræbe bjørnen eller indsamle flere enstande og vente: dræbe/vente: vente\n",
      "Det var en god ide at vente\n"
     ]
    }
   ],
   "source": [
    "# Input\n",
    "deathCounter = 0\n",
    "stage = 0\n",
    "genstand = \"ikke defineret\"\n",
    "\n",
    "while True:\n",
    "    if stage == 0:\n",
    "\n",
    "            print(\"Niveau 1\")\n",
    "            playerInput = input(\"Skriv et tal fra 1 til 10: \")\n",
    "\n",
    "            if playerInput ==  \"6\" or playerInput == \"7\" or playerInput == \"8\" or playerInput == \"9\" or playerInput == \"10\" :\n",
    "                print(\"Det var godt nok et stort tal\")\n",
    "                print(\"Du har valgt at have\",playerInput,\"liv\")\n",
    "                stage = 1\n",
    "\n",
    "\n",
    "            elif playerInput  == \"1\" or playerInput == \"2\" or playerInput == \"3\" or playerInput == \"4\" or playerInput == \"5\" :         \n",
    "                print(\"Det var godt nok et lavt tal\")\n",
    "                print(\"Du har valgt at have\",playerInput,\"liv\")\n",
    "                stage = 1\n",
    "\n",
    "            else:\n",
    "                print(\"Ups, du trykkede vist forkert. prøv igen\")\n",
    "\n",
    "    if stage == 1:   \n",
    "       \n",
    "            valg = input(\"Du har mødt en bjørn. Vil du prøve at dræbe bjørn?. ja/nej: \")\n",
    "\n",
    "            if valg == \"ja\" or valg == \"Ja\":\n",
    "                print(\"Bjørnen er alt for stærk, du døde. GAME OVER\")\n",
    "                deathCounter = deathCounter +1\n",
    "                stage = 0\n",
    "\n",
    "            elif valg == \"nej\" or valg == \"Nej\":\n",
    "                print(\"Tilykke, du klarede første prøve\") \n",
    "                print(\"Du er nu videre til niveau 2.\")\n",
    "                print(\"Man kan ikke altid bare dræbe en bjørn. Først har man brug for nogle genstande\")\n",
    "                \n",
    "                stage = 2\n",
    "                \n",
    "            else:\n",
    "                print(\"Ups, du trykkede vist forkert. prøv igen\")\n",
    "    if stage == 2:\n",
    "    \n",
    "            valg1 = input(\"Du kan vælge imellem en riffel eller en kniv: \")\n",
    "            \n",
    "            if valg1 == \"riffel\":\n",
    "                print(\"Du har valgt en riffel som våben\")\n",
    "                genstand = \"riffel\"\n",
    "                print(\"For at kunne bruge din riffle, skal du første have nogle skud\")\n",
    "                print(\"En pakke med skud kan købes i nærmeste supermarket\")\n",
    "                print(\"Supermarkedet ligger 5 km. væk\")\n",
    "                print(\"Vil du bruge tid på at løbe hen til supermarket eller vil du blive og undvære dine skud\")\n",
    "                valg3 = input(\"løbe eller blive: \")\n",
    "                if valg3 == \"blive\":\n",
    "                    print(\"Du har valgt at blive\")\n",
    "                    print(\"Fordi de ikke rykkede dig, har bjørnen dræbt dig. GAME OVER\")\n",
    "                    stage = 0\n",
    "                    deathCounter = deathCounter +1\n",
    "                    \n",
    "                \n",
    "                elif valg3 == \"løbe\" and playerInput == \"10\":\n",
    "                    print(\"Du har massere af liv og er i god form\")\n",
    "                    print(\"Du løber hen til supermarkedet og køber en pakke med skud\")\n",
    "                    print(\"Du løber tilbage til bjørnen og har nu en mulighed for at skude den\")\n",
    "                    valg4 = input(\"Vil du skyde bjørnen eller indsamle flere genstande og vente: skyde/vente: \")\n",
    "                    \n",
    "                    if valg4 == \"skyde\":\n",
    "                        print(\"Godt gået, du dræbte bjørnen\")\n",
    "                        print(\"Du er nu videre til niveau 3\")\n",
    "                        stage = 3\n",
    "                        \n",
    "                    elif valg4 == \"vente\":\n",
    "                        print(\"Man skal ikke vente med at dræbe en bjørn\")\n",
    "                        print(\"Bjørnen gik til angreb, du døde. GAME OVER\")\n",
    "                        deathCounter = deathCounter +1\n",
    "                        stage = 0\n",
    "                    else:\n",
    "                        print(\"Ups, du trykkede vist forkert. prøv igen\")\n",
    "                \n",
    "                elif valg3 == \"løbe\":\n",
    "                    print(\"Du har ikke nok liv og energi til at tage turen\")\n",
    "                    print(\"Du falder om på vejen, du døde. GAME OVER\")\n",
    "                    deathCounter = deathCounter +1\n",
    "                    stage = 0\n",
    "                else:\n",
    "                    print(\"Ups, du trykkede vist forkert. prøv igen\")\n",
    "                    \n",
    "                    \n",
    "                \n",
    "                \n",
    "            elif valg1 == \"kniv\":\n",
    "                print(\"Du har valgt en kniv som våben\")\n",
    "                genstand = \"kniv\"\n",
    "                while stage == 2:\n",
    "                    valg5 = input(\"Vil du dræbe bjørnen eller indsamle flere enstande og vente: dræbe/vente: \")\n",
    "\n",
    "                    if valg5 == \"dræbe\":\n",
    "                        print(\"Du er ikke stær nok til at dræbe bjørnen, du døde. GAME OVER\")\n",
    "                        deathCounter = deathCounter +1\n",
    "                        stage = 0\n",
    "                        break\n",
    "\n",
    "                    elif valg5 == \"vente\":\n",
    "                        print(\"Det var en god ide at vente\")\n",
    "                        while True:\n",
    "                            valg6 = input(\"Du kan nu vælge imellem et stykke kød eller et skjold: kød/skjold: \")\n",
    "\n",
    "                            if valg6 == \"skjold\":\n",
    "                                print(\"Dit skjold er lavet ud af papir\")\n",
    "                                print(\"Det var dumt, bjørnen angreb dig, du døde. GAME OVER\")\n",
    "                                deathCounter = deathCounter +1\n",
    "                                stage = 0\n",
    "                                break\n",
    "\n",
    "                            elif valg6 == \"kød\":\n",
    "                                print(\"Godt valg\")\n",
    "                                print(\"Du snød bjørnen med kød som distration og dræbte den med kniven\")\n",
    "                                print(\"Du er nu videre til niveau 3\")\n",
    "                                stage = 3\n",
    "                                break\n",
    "                                \n",
    "\n",
    "                            else:\n",
    "                                print(\"Ups, du trykkede vist forkert. prøv igen\")\n",
    "\n",
    "                    else:\n",
    "                        print(\"Ups, du trykkede vist forkert. prøv igen\")\n",
    "                \n",
    "            else:\n",
    "                print(\"Ups, du trykkede vist forkert. prøv igen\")\n",
    "                \n",
    "                \n",
    "    if stage == 3:\n",
    "        print(\"Tillykke du klare spillet\")\n",
    "        print(\"Du døde\",deathCounter,\"gange\")\n",
    "        deathCounter = 0\n",
    "        genstart = input(\"Vil du spille igen: ja/nej: \")\n",
    "        \n",
    "        if genstart == \"ja\":\n",
    "            stage = 0\n",
    "        elif genstart == \"nej\":\n",
    "            while True:\n",
    "                genstart = input(\"er du sikker? ja/nej: \")\n",
    "\n",
    "                if genstart == \"ja\":\n",
    "                    print(\"seriøst\")\n",
    "\n",
    "\n",
    "                elif genstart == \"nej\":\n",
    "                    break\n",
    "                            \n",
    "                else:\n",
    "                    print(\"Ups, du trykkede vist forkert. prøv igen\")\n",
    "        \n",
    "            \n",
    "        else:\n",
    "            print(\"Ups, du trykkede vist forkert. prøv igen\")\n",
    "        \n"
   ]
  },
  {
   "cell_type": "code",
   "execution_count": 3,
   "metadata": {},
   "outputs": [
    {
     "data": {
      "text/plain": [
       "'3'"
      ]
     },
     "execution_count": 3,
     "metadata": {},
     "output_type": "execute_result"
    }
   ],
   "source": [
    "playerInput"
   ]
  },
  {
   "cell_type": "markdown",
   "metadata": {},
   "source": [
    "### Første sortering - python"
   ]
  },
  {
   "cell_type": "code",
   "execution_count": 9,
   "metadata": {},
   "outputs": [
    {
     "name": "stdout",
     "output_type": "stream",
     "text": [
      "[1, 2, 5, 6, 6, 7, 9, 10, 11, 19, 27, 58, 98]\n",
      "None\n"
     ]
    }
   ],
   "source": [
    "#Definere sorteringen som en funktion.\n",
    "\n",
    "def sort(råData,rækkeFølge):\n",
    "    \n",
    "# Definere de forskellige dataer.\n",
    "  data = råData\n",
    "  H = data[0]\n",
    "  nyData = []\n",
    "\n",
    "  if rækkeFølge == 0:\n",
    "    \n",
    "    # Kører programmet de antal gange af data der er tilføjet.\n",
    "    for i in range(len(data)-1):\n",
    "        \n",
    "      for i in range(len(data)):\n",
    "        \n",
    "        # Finder den højeste værdi af datasættet.\n",
    "        if data[i] > H:\n",
    "    \n",
    "            #Definere H den højeste værdi.\n",
    "          H = data[i]\n",
    "        \n",
    "      # Tilføjer den højeste værdi i et nyt datasæt.\n",
    "      nyData.insert(0,H)\n",
    "      \n",
    "      # Fjerne Værdien fra den originale datasæt.\n",
    "      data.remove(H)\n",
    "      \n",
    "      # Defienere værdien til den første af datatsættet igen.\n",
    "      H = data[0]\n",
    "        \n",
    "    # Tilføjer den sidste værdi.\n",
    "    nyData.insert(0,H)\n",
    "    \n",
    "  # Laver det samme igen, men sortere omvendt.  \n",
    "  if rækkeFølge == 1:\n",
    "\n",
    "    for i in range(len(data)-1):\n",
    "        \n",
    "      for i in range(len(data)):\n",
    "            \n",
    "        if data[i] < H:\n",
    "          H = data[i]\n",
    "        \n",
    "          \n",
    "      nyData.insert(0,H)\n",
    "\n",
    "      data.remove(H)\n",
    "\n",
    "      H = data[0]\n",
    "\n",
    "    nyData.insert(0,H)\n",
    "\n",
    "  print(nyData)\n",
    "\n",
    "\n",
    "\n",
    "\n",
    "\n",
    "print(sort([1,9,5,6,7,6,10,19,27,58,11,2,98],0))"
   ]
  },
  {
   "cell_type": "markdown",
   "metadata": {},
   "source": [
    "### Bubble sort - python"
   ]
  },
  {
   "cell_type": "code",
   "execution_count": 8,
   "metadata": {},
   "outputs": [
    {
     "name": "stdout",
     "output_type": "stream",
     "text": [
      "[1, 1, 2, 2, 4, 4, 5, 6, 9, 99]\n",
      "None\n"
     ]
    }
   ],
   "source": [
    "# Definere sorteringen som en funktion.\n",
    "\n",
    "def sort(råData,rækkeFølge):\n",
    "\n",
    "    data = råData\n",
    "    temp = []\n",
    "  \n",
    "\n",
    "    if rækkeFølge == 0 :\n",
    "        # Kører programmet de antal gange af data der er tilføjet.\n",
    "        for i in range (len(data)-1):\n",
    "            \n",
    "            for i in range(len(data)-1):\n",
    "                            \n",
    "                 # laver et bytte system der bytter på variablerne.\n",
    "                if data[i]> data[i+1]:\n",
    "                    temp = data[i]\n",
    "                    data[i] = data[i+1]\n",
    "                    data[i+1] = temp\n",
    "                                  \n",
    "    # Laver det samme, men sortere omvendt.\n",
    "    if rækkeFølge == 1 :\n",
    "\n",
    "        for i in range (len(data)-1):\n",
    "            \n",
    "            for i in range(len(data)-1):\n",
    "                            \n",
    "                if data[i]< data[i+1]:\n",
    "                    temp = data[i]\n",
    "                    data[i] = data[i+1]\n",
    "                    data[i+1] = temp\n",
    "                  \n",
    "    #printer resultaterne.\n",
    "    print(data)\n",
    "\n",
    "        \n",
    "\n",
    "\n",
    "print(sort([1,4,2,5,6,99,4,2,1,9],0))\n",
    "            \n"
   ]
  },
  {
   "cell_type": "code",
   "execution_count": null,
   "metadata": {},
   "outputs": [],
   "source": []
  },
  {
   "cell_type": "code",
   "execution_count": null,
   "metadata": {},
   "outputs": [],
   "source": []
  },
  {
   "cell_type": "code",
   "execution_count": null,
   "metadata": {},
   "outputs": [],
   "source": []
  }
 ],
 "metadata": {
  "kernelspec": {
   "display_name": "Python 3",
   "language": "python",
   "name": "python3"
  },
  "language_info": {
   "codemirror_mode": {
    "name": "ipython",
    "version": 3
   },
   "file_extension": ".py",
   "mimetype": "text/x-python",
   "name": "python",
   "nbconvert_exporter": "python",
   "pygments_lexer": "ipython3",
   "version": "3.7.1"
  }
 },
 "nbformat": 4,
 "nbformat_minor": 2
}
