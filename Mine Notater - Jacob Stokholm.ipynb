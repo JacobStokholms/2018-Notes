{
 "cells": [
  {
   "cell_type": "markdown",
   "metadata": {},
   "source": [
    "# Mine notater 1.y\n"
   ]
  },
  {
   "cell_type": "markdown",
   "metadata": {},
   "source": [
    "## Intorduktion til python"
   ]
  },
  {
   "cell_type": "markdown",
   "metadata": {},
   "source": [
    "### Variabler\n",
    "\n",
    "I python er der ingen {} der er heller ingen ;. Det hele er baseret på linjeskift og indryk. Det har både fordele, men også nogle ulemper. Det er vigtig at holde øje på det nøjagtige antal *mellemrum/spaces* har indflydelse på det såkaldte **scope**. \n",
    "\n",
    "Python kræver ikke en specefikatino af datatype til variablen.\n"
   ]
  },
  {
   "cell_type": "code",
   "execution_count": 19,
   "metadata": {},
   "outputs": [],
   "source": [
    "# Eksemple på variable: Variabler kan hedde hvad som helst, UNTAGEN ÆØÅ, må dog ikke starte med et TAL! og ingen mellemrum.\n",
    "\n",
    "# Kald variblerne noget forståeligt som f.eks.\n",
    "antal_data = [1,2,3]\n",
    "antal_kasser = 3\n",
    "\n",
    "# Variable der indeholder et HELTAL kaldes Int eller Integers på engelsk.\n",
    "a = 4\n",
    "\n",
    "# Variable der indeholder KOMMATAL kaldes Float på engelsk.\n",
    "b = 2.5 \n",
    "\n",
    "# Variable der indeholder TEKST kaldes STRING på engelsk.\n",
    "c = \"Hej\"\n",
    "\n",
    "# Variable der indeholder BOOLSKE værdier dsv. SANDT/FALSK på engelsk - BOOL/BOOLEAN\n",
    "d = False\n",
    "\n",
    "# Samling af variable der indeholder FLERE TAL kaldes ARRAY/LIST på engelsk.\n",
    "e = [1,2,3]\n",
    "\n",
    "# Pas på, man kan lave rod i det hele.\n",
    "\n",
    "e = \"hej igen\""
   ]
  },
  {
   "cell_type": "code",
   "execution_count": 20,
   "metadata": {},
   "outputs": [
    {
     "name": "stdout",
     "output_type": "stream",
     "text": [
      "4\n"
     ]
    }
   ],
   "source": [
    "# For at vise hvad vi har af værdier eller varibler bruges print().\n",
    "\n",
    "print(a)"
   ]
  },
  {
   "cell_type": "code",
   "execution_count": 22,
   "metadata": {},
   "outputs": [
    {
     "name": "stdout",
     "output_type": "stream",
     "text": [
      "<class 'int'>\n",
      "<class 'float'>\n",
      "<class 'str'>\n",
      "<class 'bool'>\n"
     ]
    },
    {
     "data": {
      "text/plain": [
       "float"
      ]
     },
     "execution_count": 22,
     "metadata": {},
     "output_type": "execute_result"
    }
   ],
   "source": [
    "# Ofte har vi brug for at se hvilken type af en varible bruges type().\n",
    "\n",
    "type(a)\n",
    "\n",
    "# Print bruges til at vise dem alle.\n",
    "print(type(a))\n",
    "print(type(b))\n",
    "print(type(c))\n",
    "print(type(d))\n",
    "\n",
    "type(b)\n"
   ]
  },
  {
   "cell_type": "markdown",
   "metadata": {},
   "source": [
    "### Kontrolstruktur"
   ]
  },
  {
   "cell_type": "code",
   "execution_count": null,
   "metadata": {},
   "outputs": [],
   "source": [
    "# Hvis noget, så gør vi noget (If statements)\n",
    "\n",
    "\n",
    "if variable == 1:\n",
    "    pass\n",
    "\n",
    "elif varible == 0:      #elif står for else if.\n",
    "    pass\n",
    "\n",
    "else:\n",
    "    pass\n",
    "#eksemple\n",
    "\n",
    "karakter = 12\n",
    "\n",
    "if karakter == 12:\n",
    "    print(\"Perfekt\")\n",
    "elif karakter < 1:\n",
    "    print(\"dumpet\")\n",
    "elif karakter > 4:\n",
    "    print(\"Godt gået\")\n",
    "else:\n",
    "    print(\"Det kan godt gøres bedre\")\n",
    "    \n",
    " #eksemple på for der kan bruges som et loop\n",
    "tal = 1 \n",
    "for nyetal in range(11):\n",
    "    print(tal) \n",
    "    tal = tal +1\n",
    "    \n",
    "print(tal)"
   ]
  },
  {
   "cell_type": "code",
   "execution_count": null,
   "metadata": {},
   "outputs": [],
   "source": [
    "# Input\n",
    "deadCounter = 0\n",
    "stage = 0\n",
    "item = \"ikke defineret\"\n",
    "\n",
    "while True:\n",
    "    if stage == 0:\n",
    "        while stage == 0:\n",
    "            print(\"niveau 1\")\n",
    "            playerInput = input(\"Skriv et tal fra 1 til 10: \")\n",
    "\n",
    "            if playerInput ==  \"6\" or playerInput == \"7\" or playerInput == \"8\" or playerInput == \"9\" or playerInput == \"10\" :\n",
    "                print(\"Det var godt nok et stort tal\")\n",
    "                print(\"Du har valgt at have\",playerInput,\"liv\")\n",
    "                stage = 1\n",
    "\n",
    "\n",
    "            elif playerInput  == \"1\" or playerInput == \"2\" or playerInput == \"3\" or playerInput == \"4\" or playerInput == \"5\" :         \n",
    "                print(\"Det var godt nok et lavt tal\")\n",
    "                print(\"Du har valgt at have\",playerInput,\"liv\")\n",
    "                stage = 1\n",
    "\n",
    "            else:\n",
    "                print(\"Ups, du trykkede vist forkert. prøv igen\")\n",
    "\n",
    "    if stage == 1:   \n",
    "        while stage == 1:\n",
    "            valg = input(\"Du har mødt en demon. Vil du prøve at dræbe demonen?. ja/nej:\")\n",
    "\n",
    "            if valg == \"ja\" or valg == \"Ja\":\n",
    "                print(\"Demonen er udeødelig, du døde. GAME OVER\")\n",
    "                deadCounter = deadCounter +1\n",
    "                stage = 1\n",
    "\n",
    "            elif valg == \"nej\" or valg == \"Nej\":\n",
    "                print(\"Tilykke, du klarede første prøve\") \n",
    "                print(\"Du er nu videre til niveau 2.\")\n",
    "                print(\"Man kan ikke altid bare dræbe en demon. Først har man brug for nogle genstande\")\n",
    "                \n",
    "                stage = 2\n",
    "                \n",
    "            else:\n",
    "                print(\"Ups, du trykkede vist forkert. prøv igen\")\n",
    "    if stage == 2:\n",
    "        while stage == 2:\n",
    "            valg1 = input(\"Du kan vælge imellem en sterinlys eller hvidløg\")\n",
    "            \n",
    "            if valg1 == \"sterinlys\":\n",
    "                print(\"Du har valgt et sterinlys som våben\")\n",
    "                item = sterinlys\n",
    "                \n",
    "            if valg1 == \"hvidløg\":\n",
    "                print(\"Du har valgt et hvidløg som våben\")\n",
    "                item = hvidløg\n",
    "                \n",
    "                \n",
    "            else:\n",
    "                print(\"Ups, du trykkede vist forkert. prøv igen\")\n",
    "                \n",
    "                \n"
   ]
  },
  {
   "cell_type": "code",
   "execution_count": 3,
   "metadata": {},
   "outputs": [
    {
     "data": {
      "text/plain": [
       "'3'"
      ]
     },
     "execution_count": 3,
     "metadata": {},
     "output_type": "execute_result"
    }
   ],
   "source": [
    "playerInput"
   ]
  },
  {
   "cell_type": "markdown",
   "metadata": {},
   "source": [
    "### Første sortering - python"
   ]
  },
  {
   "cell_type": "code",
   "execution_count": 9,
   "metadata": {},
   "outputs": [
    {
     "name": "stdout",
     "output_type": "stream",
     "text": [
      "[1, 2, 5, 6, 6, 7, 9, 10, 11, 19, 27, 58, 98]\n",
      "None\n"
     ]
    }
   ],
   "source": [
    "#Definere sorteringen som en funktion.\n",
    "\n",
    "def sort(råData,rækkeFølge):\n",
    "    \n",
    "# Definere de forskellige dataer.\n",
    "  data = råData\n",
    "  H = data[0]\n",
    "  nyData = []\n",
    "\n",
    "  if rækkeFølge == 0:\n",
    "    \n",
    "    # Kører programmet de antal gange af data der er tilføjet.\n",
    "    for i in range(len(data)-1):\n",
    "        \n",
    "      for i in range(len(data)):\n",
    "        \n",
    "        # Finder den højeste værdi af datasættet.\n",
    "        if data[i] > H:\n",
    "    \n",
    "            #Definere H den højeste værdi.\n",
    "          H = data[i]\n",
    "        \n",
    "      # Tilføjer den højeste værdi i et nyt datasæt.\n",
    "      nyData.insert(0,H)\n",
    "      \n",
    "      # Fjerne Værdien fra den originale datasæt.\n",
    "      data.remove(H)\n",
    "      \n",
    "      # Defienere værdien til den første af datatsættet igen.\n",
    "      H = data[0]\n",
    "        \n",
    "    # Tilføjer den sidste værdi.\n",
    "    nyData.insert(0,H)\n",
    "    \n",
    "  # Laver det samme igen, men sortere omvendt.  \n",
    "  if rækkeFølge == 1:\n",
    "\n",
    "    for i in range(len(data)-1):\n",
    "        \n",
    "      for i in range(len(data)):\n",
    "            \n",
    "        if data[i] < H:\n",
    "          H = data[i]\n",
    "        \n",
    "          \n",
    "      nyData.insert(0,H)\n",
    "\n",
    "      data.remove(H)\n",
    "\n",
    "      H = data[0]\n",
    "\n",
    "    nyData.insert(0,H)\n",
    "\n",
    "  print(nyData)\n",
    "\n",
    "\n",
    "\n",
    "\n",
    "\n",
    "print(sort([1,9,5,6,7,6,10,19,27,58,11,2,98],0))"
   ]
  },
  {
   "cell_type": "markdown",
   "metadata": {},
   "source": [
    "### Bubble sort - python"
   ]
  },
  {
   "cell_type": "code",
   "execution_count": 8,
   "metadata": {},
   "outputs": [
    {
     "name": "stdout",
     "output_type": "stream",
     "text": [
      "[1, 1, 2, 2, 4, 4, 5, 6, 9, 99]\n",
      "None\n"
     ]
    }
   ],
   "source": [
    "# Definere sorteringen som en funktion.\n",
    "\n",
    "def sort(råData,rækkeFølge):\n",
    "\n",
    "    data = råData\n",
    "    temp = []\n",
    "  \n",
    "\n",
    "    if rækkeFølge == 0 :\n",
    "        # Kører programmet de antal gange af data der er tilføjet.\n",
    "        for i in range (len(data)-1):\n",
    "            \n",
    "            for i in range(len(data)-1):\n",
    "                            \n",
    "                 # laver et bytte system der bytter på variablerne.\n",
    "                if data[i]> data[i+1]:\n",
    "                    temp = data[i]\n",
    "                    data[i] = data[i+1]\n",
    "                    data[i+1] = temp\n",
    "                                  \n",
    "    # Laver det samme, men sortere omvendt.\n",
    "    if rækkeFølge == 1 :\n",
    "\n",
    "        for i in range (len(data)-1):\n",
    "            \n",
    "            for i in range(len(data)-1):\n",
    "                            \n",
    "                if data[i]< data[i+1]:\n",
    "                    temp = data[i]\n",
    "                    data[i] = data[i+1]\n",
    "                    data[i+1] = temp\n",
    "                  \n",
    "    #printer resultaterne.\n",
    "    print(data)\n",
    "\n",
    "        \n",
    "\n",
    "\n",
    "print(sort([1,4,2,5,6,99,4,2,1,9],0))\n",
    "            \n"
   ]
  },
  {
   "cell_type": "code",
   "execution_count": null,
   "metadata": {},
   "outputs": [],
   "source": []
  },
  {
   "cell_type": "code",
   "execution_count": null,
   "metadata": {},
   "outputs": [],
   "source": []
  },
  {
   "cell_type": "code",
   "execution_count": null,
   "metadata": {},
   "outputs": [],
   "source": []
  }
 ],
 "metadata": {
  "kernelspec": {
   "display_name": "Python 3",
   "language": "python",
   "name": "python3"
  },
  "language_info": {
   "codemirror_mode": {
    "name": "ipython",
    "version": 3
   },
   "file_extension": ".py",
   "mimetype": "text/x-python",
   "name": "python",
   "nbconvert_exporter": "python",
   "pygments_lexer": "ipython3",
   "version": "3.7.1"
  }
 },
 "nbformat": 4,
 "nbformat_minor": 2
}
