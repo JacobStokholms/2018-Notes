{
 "cells": [
  {
   "cell_type": "markdown",
   "metadata": {},
   "source": [
    "# Mine notater 1.y\n"
   ]
  },
  {
   "cell_type": "markdown",
   "metadata": {},
   "source": [
    "## Intorduktion til python"
   ]
  },
  {
   "cell_type": "markdown",
   "metadata": {},
   "source": [
    "### Variabler\n",
    "\n",
    "I python er der ingen {} der er heller ingen ;. Det hele er baseret på linjeskift og indryk. Det har både fordele, men også nogle ulemper. Det er vigtig at holde øje på det nøjagtige antal *mellemrum/spaces* har indflydelse på det såkaldte **scope**. \n",
    "\n",
    "Python kræver ikke en specefikatino af datatype til variablen.\n"
   ]
  },
  {
   "cell_type": "code",
   "execution_count": 19,
   "metadata": {},
   "outputs": [],
   "source": [
    "# Eksemple på variable: Variabler kan hedde hvad som helst, UNTAGEN ÆØÅ.\n",
    "\n",
    "# Kald variblerne noget forståeligt som f.eks.\n",
    "antal_data = [1,2,3]\n",
    "antal_kasser = 3\n",
    "\n",
    "# Variable der indeholder et HELTAL kaldes Int eller Integers på engelsk.\n",
    "a = 4\n",
    "\n",
    "# Variable der indeholder KOMMATAL kaldes Float på engelsk.\n",
    "b = 2.5 \n",
    "\n",
    "# Variable der indeholder TEKST kaldes STRING på engelsk.\n",
    "c = \"Hej\"\n",
    "\n",
    "# Variable der indeholder BOOLSKE værdier dsv. SANDT/FALSK på engelsk - BOOL/BOOLEAN\n",
    "d = False\n",
    "\n",
    "# Variable der indeholder FLERE TAL kaldes ARRAY/LIST på engelsk.\n",
    "e = [1,2,3]\n",
    "\n",
    "# Pas på, man kan lave rod i det hele.\n",
    "\n",
    "e = \"hej igen\""
   ]
  },
  {
   "cell_type": "code",
   "execution_count": 20,
   "metadata": {},
   "outputs": [
    {
     "name": "stdout",
     "output_type": "stream",
     "text": [
      "4\n"
     ]
    }
   ],
   "source": [
    "# For at vise hvad vi har af værdier eller varibler bruges print().\n",
    "\n",
    "print(a)"
   ]
  },
  {
   "cell_type": "code",
   "execution_count": 22,
   "metadata": {},
   "outputs": [
    {
     "name": "stdout",
     "output_type": "stream",
     "text": [
      "<class 'int'>\n",
      "<class 'float'>\n",
      "<class 'str'>\n",
      "<class 'bool'>\n"
     ]
    },
    {
     "data": {
      "text/plain": [
       "float"
      ]
     },
     "execution_count": 22,
     "metadata": {},
     "output_type": "execute_result"
    }
   ],
   "source": [
    "# Ofte har vi brug for at se hvilken type af en varible bruges type().\n",
    "\n",
    "type(a)\n",
    "\n",
    "# Print bruges til at vise dem alle.\n",
    "print(type(a))\n",
    "print(type(b))\n",
    "print(type(c))\n",
    "print(type(d))\n",
    "\n",
    "type(b)\n"
   ]
  },
  {
   "cell_type": "markdown",
   "metadata": {},
   "source": [
    "### Første sortering - python"
   ]
  },
  {
   "cell_type": "code",
   "execution_count": 7,
   "metadata": {},
   "outputs": [
    {
     "name": "stdout",
     "output_type": "stream",
     "text": [
      "[1, 2, 5, 6, 6, 7, 9, 10, 11, 19, 27, 58, 98]\n",
      "None\n"
     ]
    }
   ],
   "source": [
    "#Definere sorteringen som en funktion.\n",
    "\n",
    "def sort(råData,rækkeFølge):\n",
    "    \n",
    "# Definere de forskellige dataer.\n",
    "  data = råData\n",
    "  H = data[0]\n",
    "  nyData = []\n",
    "\n",
    "  if rækkeFølge == 0:\n",
    "    \n",
    "    # Kører programmet de antal gange af data der er tilføjet.\n",
    "    for i in range(len(data)-1):\n",
    "        \n",
    "      for i in range(len(data)):\n",
    "        \n",
    "        # Finder den højeste værdi af datasættet.\n",
    "        if data[i] > H:\n",
    "          H = data[i]\n",
    "        \n",
    "      # Tilføjer den højeste værdi i et nyt datasæt.\n",
    "      nyData.insert(0,H)\n",
    "      \n",
    "      # Fjerne Værdien fra den originale datasæt.\n",
    "      data.remove(H)\n",
    "      \n",
    "      # Defienere værdien til den første af datatsættet igen.\n",
    "      H = data[0]\n",
    "        \n",
    "    # Tilføjer den sidste værdi.\n",
    "    nyData.insert(0,H)\n",
    "    \n",
    "  # Laver det samme igen, men sortere omvendt.  \n",
    "  if rækkeFølge == 1:\n",
    "\n",
    "    for i in range(len(data)-1):\n",
    "        \n",
    "      for i in range(len(data)):\n",
    "            \n",
    "        if data[i] < H:\n",
    "          H = data[i]\n",
    "        \n",
    "          \n",
    "      nyData.insert(0,H)\n",
    "\n",
    "      data.remove(H)\n",
    "\n",
    "      H = data[0]\n",
    "\n",
    "    nyData.insert(0,H)\n",
    "\n",
    "  print(nyData)\n",
    "\n",
    "\n",
    "\n",
    "\n",
    "\n",
    "print(sort([1,9,5,6,7,6,10,19,27,58,11,2,98],0))"
   ]
  },
  {
   "cell_type": "markdown",
   "metadata": {},
   "source": [
    "### Bubble sort - python"
   ]
  },
  {
   "cell_type": "code",
   "execution_count": 8,
   "metadata": {},
   "outputs": [
    {
     "name": "stdout",
     "output_type": "stream",
     "text": [
      "[1, 1, 2, 2, 4, 4, 5, 6, 9, 99]\n",
      "None\n"
     ]
    }
   ],
   "source": [
    "# Definere sorteringen som en funktion.\n",
    "\n",
    "def sort(råData,rækkeFølge):\n",
    "\n",
    "    data = råData\n",
    "    temp = []\n",
    "  \n",
    "\n",
    "    if rækkeFølge == 0 :\n",
    "        # Kører programmet de antal gange af data der er tilføjet.\n",
    "        for i in range (len(data)-1):\n",
    "            \n",
    "            for i in range(len(data)-1):\n",
    "                            \n",
    "                 # laver et bytte system der bytter på variablerne.\n",
    "                if data[i]> data[i+1]:\n",
    "                    temp = data[i]\n",
    "                    data[i] = data[i+1]\n",
    "                    data[i+1] = temp\n",
    "                                  \n",
    "    # Laver det samme, men sortere omvendt.\n",
    "    if rækkeFølge == 1 :\n",
    "\n",
    "        for i in range (len(data)-1):\n",
    "            \n",
    "            for i in range(len(data)-1):\n",
    "                            \n",
    "                if data[i]< data[i+1]:\n",
    "                    temp = data[i]\n",
    "                    data[i] = data[i+1]\n",
    "                    data[i+1] = temp\n",
    "                  \n",
    "    #printer resultaterne.\n",
    "    print(data)\n",
    "\n",
    "        \n",
    "\n",
    "\n",
    "print(sort([1,4,2,5,6,99,4,2,1,9],0))\n",
    "            \n"
   ]
  },
  {
   "cell_type": "code",
   "execution_count": null,
   "metadata": {},
   "outputs": [],
   "source": []
  },
  {
   "cell_type": "code",
   "execution_count": null,
   "metadata": {},
   "outputs": [],
   "source": []
  },
  {
   "cell_type": "code",
   "execution_count": null,
   "metadata": {},
   "outputs": [],
   "source": []
  }
 ],
 "metadata": {
  "kernelspec": {
   "display_name": "Python 3",
   "language": "python",
   "name": "python3"
  },
  "language_info": {
   "codemirror_mode": {
    "name": "ipython",
    "version": 3
   },
   "file_extension": ".py",
   "mimetype": "text/x-python",
   "name": "python",
   "nbconvert_exporter": "python",
   "pygments_lexer": "ipython3",
   "version": "3.7.1"
  }
 },
 "nbformat": 4,
 "nbformat_minor": 2
}
